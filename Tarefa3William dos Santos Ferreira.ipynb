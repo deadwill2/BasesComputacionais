{
  "nbformat": 4,
  "nbformat_minor": 0,
  "metadata": {
    "colab": {
      "provenance": [],
      "authorship_tag": "ABX9TyMmhm+14JjZ7Feg8RLIgjHX",
      "include_colab_link": true
    },
    "kernelspec": {
      "name": "python3",
      "display_name": "Python 3"
    },
    "language_info": {
      "name": "python"
    }
  },
  "cells": [
    {
      "cell_type": "markdown",
      "metadata": {
        "id": "view-in-github",
        "colab_type": "text"
      },
      "source": [
        "<a href=\"https://colab.research.google.com/github/deadwill2/BasesComputacionais/blob/master/Tarefa3William%20dos%20Santos%20Ferreira.ipynb\" target=\"_parent\"><img src=\"https://colab.research.google.com/assets/colab-badge.svg\" alt=\"Open In Colab\"/></a>"
      ]
    },
    {
      "cell_type": "code",
      "execution_count": null,
      "metadata": {
        "id": "ctZ3WZobIx3A"
      },
      "outputs": [],
      "source": [
        "William dos Santos Ferreira"
      ]
    },
    {
      "cell_type": "markdown",
      "source": [
        "Primeiramente temos, s= 1 segundo, e h igual a 3600 segundos, que equivale a uma hora"
      ],
      "metadata": {
        "id": "6YRyjZSsMIel"
      }
    },
    {
      "cell_type": "code",
      "source": [
        "s=1\n",
        "h=3600"
      ],
      "metadata": {
        "id": "lQD0PWN8I4s2"
      },
      "execution_count": 3,
      "outputs": []
    },
    {
      "cell_type": "markdown",
      "source": [
        "1) Sendo assim, 1,5 hora, é igual à 1,5h, que é 5400 s."
      ],
      "metadata": {
        "id": "GtX9fw6MMR4k"
      }
    },
    {
      "cell_type": "code",
      "source": [
        "1.5*h"
      ],
      "metadata": {
        "colab": {
          "base_uri": "https://localhost:8080/"
        },
        "id": "vlXsr6fnLpQv",
        "outputId": "e4951096-fe13-48f1-ca71-646930279313"
      },
      "execution_count": 9,
      "outputs": [
        {
          "output_type": "execute_result",
          "data": {
            "text/plain": [
              "5400.0"
            ]
          },
          "metadata": {},
          "execution_count": 9
        }
      ]
    },
    {
      "cell_type": "markdown",
      "source": [
        "2) Portanto, 12 horas é igual à 12*h"
      ],
      "metadata": {
        "id": "wcFNZLYNMuoU"
      }
    },
    {
      "cell_type": "code",
      "source": [
        "12*h"
      ],
      "metadata": {
        "colab": {
          "base_uri": "https://localhost:8080/"
        },
        "id": "QPeTPPnZMrmB",
        "outputId": "f1388486-adb6-48ec-c39a-e9704b1ea990"
      },
      "execution_count": 10,
      "outputs": [
        {
          "output_type": "execute_result",
          "data": {
            "text/plain": [
              "43200"
            ]
          },
          "metadata": {},
          "execution_count": 10
        }
      ]
    },
    {
      "cell_type": "markdown",
      "source": [
        "3) E 24 horas é igual à 24*h"
      ],
      "metadata": {
        "id": "uF9of6sqNReE"
      }
    },
    {
      "cell_type": "code",
      "source": [
        "24*h"
      ],
      "metadata": {
        "colab": {
          "base_uri": "https://localhost:8080/"
        },
        "id": "0QO28FwKM7ZL",
        "outputId": "19b39763-9a92-463e-c65e-c3e571e31ab0"
      },
      "execution_count": 11,
      "outputs": [
        {
          "output_type": "execute_result",
          "data": {
            "text/plain": [
              "86400"
            ]
          },
          "metadata": {},
          "execution_count": 11
        }
      ]
    }
  ]
}