{
  "nbformat": 4,
  "nbformat_minor": 0,
  "metadata": {
    "colab": {
      "provenance": [],
      "authorship_tag": "ABX9TyN1TMh4oNU39EMAgjI9wem7",
      "include_colab_link": true
    },
    "kernelspec": {
      "name": "python3",
      "display_name": "Python 3"
    },
    "language_info": {
      "name": "python"
    }
  },
  "cells": [
    {
      "cell_type": "markdown",
      "metadata": {
        "id": "view-in-github",
        "colab_type": "text"
      },
      "source": [
        "<a href=\"https://colab.research.google.com/github/deadwill2/BasesComputacionais/blob/master/Tarefa4William_dos_Santos_Ferreira.ipynb\" target=\"_parent\"><img src=\"https://colab.research.google.com/assets/colab-badge.svg\" alt=\"Open In Colab\"/></a>"
      ]
    },
    {
      "cell_type": "markdown",
      "source": [
        "William dos Santos Ferreira"
      ],
      "metadata": {
        "id": "P1JlQghfPl49"
      }
    },
    {
      "cell_type": "markdown",
      "source": [
        "A fórmula para calcular o volume de uma esfera é: (4/3) * pi * R3, ou seja, em uma esfera de 0,32m temos:"
      ],
      "metadata": {
        "id": "5AEvKdajRV4i"
      }
    },
    {
      "cell_type": "code",
      "source": [
        "raio = 0.32\n",
        "\n",
        "pi = 3.14159\n",
        "\n",
        "volume = float(4.0 * pi * (raio* raio * raio) / 3)\n",
        "\n",
        "print(\"VOLUME = %0.3f\" %volume)"
      ],
      "metadata": {
        "colab": {
          "base_uri": "https://localhost:8080/"
        },
        "id": "AynfkW7CSreG",
        "outputId": "ef244429-4ca7-44a0-926c-94cebe8c77c1"
      },
      "execution_count": 35,
      "outputs": [
        {
          "output_type": "stream",
          "name": "stdout",
          "text": [
            "VOLUME = 0.137\n"
          ]
        }
      ]
    },
    {
      "cell_type": "markdown",
      "source": [
        "Sabendo disso, em uma esfera de 1m de raio temos:"
      ],
      "metadata": {
        "id": "AYqTirwNRl6q"
      }
    },
    {
      "cell_type": "code",
      "source": [
        "raio = 1\n",
        "\n",
        "pi = 3.14159\n",
        "\n",
        "volume = float(4.0 * pi * (raio* raio * raio) / 3)\n",
        "\n",
        "print(\"VOLUME = %0.3f\" %volume)"
      ],
      "metadata": {
        "colab": {
          "base_uri": "https://localhost:8080/"
        },
        "id": "zNLjJDiCRoNC",
        "outputId": "602768bc-6703-4852-8bdc-00d24f84350e"
      },
      "execution_count": 36,
      "outputs": [
        {
          "output_type": "stream",
          "name": "stdout",
          "text": [
            "VOLUME = 4.189\n"
          ]
        }
      ]
    },
    {
      "cell_type": "markdown",
      "source": [
        "E em uma esfera de 1,9m de raio temos:"
      ],
      "metadata": {
        "id": "OgBmjbdVSSDm"
      }
    },
    {
      "cell_type": "code",
      "source": [
        "raio = 1.9\n",
        "\n",
        "pi = 3.14159\n",
        "\n",
        "volume = float(4.0 * pi * (raio* raio * raio) / 3)\n",
        "\n",
        "print(\"VOLUME = %0.3f\" %volume)"
      ],
      "metadata": {
        "colab": {
          "base_uri": "https://localhost:8080/"
        },
        "id": "vETdOkR4SawD",
        "outputId": "95b2f5a4-f7cc-4362-9d9f-db4e7d2cf054"
      },
      "execution_count": 38,
      "outputs": [
        {
          "output_type": "stream",
          "name": "stdout",
          "text": [
            "VOLUME = 28.731\n"
          ]
        }
      ]
    },
    {
      "cell_type": "markdown",
      "source": [
        "Para converter Celsius para farenheint, a formula é F = (C*9/5) + 32, então, assumindo Tc (Temperatura em celsius) -10, temos:"
      ],
      "metadata": {
        "id": "D328AHSHTDWf"
      }
    },
    {
      "cell_type": "code",
      "source": [
        "\n",
        "    F = (-10*9/5) + 32\n",
        "    F\n",
        "    "
      ],
      "metadata": {
        "colab": {
          "base_uri": "https://localhost:8080/"
        },
        "id": "z-p9yS4wTMBM",
        "outputId": "797e480e-250a-48ec-924e-4695ad61e7bb"
      },
      "execution_count": 56,
      "outputs": [
        {
          "output_type": "execute_result",
          "data": {
            "text/plain": [
              "14.0"
            ]
          },
          "metadata": {},
          "execution_count": 56
        }
      ]
    },
    {
      "cell_type": "markdown",
      "source": [
        "Se a temperatura em Celsius for 30, temos"
      ],
      "metadata": {
        "id": "iFHfWXcyVpf2"
      }
    },
    {
      "cell_type": "code",
      "source": [
        " F = (30*9/5) + 32\n",
        " F"
      ],
      "metadata": {
        "colab": {
          "base_uri": "https://localhost:8080/"
        },
        "id": "mWMi564NVm6K",
        "outputId": "a220070f-bdb1-448e-8240-aec931f86fe3"
      },
      "execution_count": 58,
      "outputs": [
        {
          "output_type": "execute_result",
          "data": {
            "text/plain": [
              "86.0"
            ]
          },
          "metadata": {},
          "execution_count": 58
        }
      ]
    },
    {
      "cell_type": "markdown",
      "source": [
        "Se a temperatura em Celsius for 5, temos"
      ],
      "metadata": {
        "id": "YZFtHEmYV4RQ"
      }
    },
    {
      "cell_type": "code",
      "source": [
        "F = (5*9/5) + 32\n",
        "F"
      ],
      "metadata": {
        "colab": {
          "base_uri": "https://localhost:8080/"
        },
        "id": "5d0Mcym1V_LA",
        "outputId": "fb2bee49-0d93-4ac0-d1e1-cbc0b5755c5c"
      },
      "execution_count": 60,
      "outputs": [
        {
          "output_type": "execute_result",
          "data": {
            "text/plain": [
              "41.0"
            ]
          },
          "metadata": {},
          "execution_count": 60
        }
      ]
    }
  ]
}